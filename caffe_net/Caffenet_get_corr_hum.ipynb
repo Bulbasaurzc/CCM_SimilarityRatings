{
 "cells": [
  {
   "cell_type": "code",
   "execution_count": 21,
   "metadata": {},
   "outputs": [],
   "source": [
    "import numpy as np"
   ]
  },
  {
   "cell_type": "code",
   "execution_count": 157,
   "metadata": {},
   "outputs": [],
   "source": [
    "import pandas as pd"
   ]
  },
  {
   "cell_type": "code",
   "execution_count": 242,
   "metadata": {},
   "outputs": [],
   "source": [
    "hum_sim_surv = pd.read_csv('avg_hum_ratings.csv',header=None)\n",
    "hum_avg_ratings = hum_sim_surv.loc[0].to_numpy()"
   ]
  },
  {
   "cell_type": "code",
   "execution_count": 243,
   "metadata": {},
   "outputs": [
    {
     "data": {
      "text/plain": [
       "153"
      ]
     },
     "execution_count": 243,
     "metadata": {},
     "output_type": "execute_result"
    }
   ],
   "source": [
    "len(hum_avg_ratings)"
   ]
  },
  {
   "cell_type": "code",
   "execution_count": 244,
   "metadata": {},
   "outputs": [],
   "source": [
    "hum_sim_mat = np.zeros((18,18))\n",
    "ind = 0\n",
    "hum_sim_mat[:] = np.nan\n",
    "for i in range(18):\n",
    "    for j in range(i,18):\n",
    "        if i!=j:\n",
    "            hum_sim_mat[i,j] = hum_avg_ratings[ind]\n",
    "            hum_sim_mat[j,i] = hum_avg_ratings[ind]\n",
    "            ind+=1\n",
    "        else:\n",
    "            hum_sim_mat[i,j] = 6\n",
    "        \n"
   ]
  },
  {
   "cell_type": "code",
   "execution_count": 245,
   "metadata": {},
   "outputs": [
    {
     "data": {
      "text/plain": [
       "(18, 18)"
      ]
     },
     "execution_count": 245,
     "metadata": {},
     "output_type": "execute_result"
    }
   ],
   "source": [
    "hum_sim_mat.shape"
   ]
  },
  {
   "cell_type": "code",
   "execution_count": 246,
   "metadata": {},
   "outputs": [
    {
     "data": {
      "text/plain": [
       "array([[6.        , 3.70909091, 3.50909091, 1.01818182, 1.32727273,\n",
       "        2.36363636, 1.36363636, 1.10909091, 1.92727273, 1.49090909,\n",
       "        1.47272727, 1.41818182, 1.74545455, 1.58181818, 1.56363636,\n",
       "        3.96363636, 3.83636364, 3.89090909],\n",
       "       [3.70909091, 6.        , 5.25454545, 1.83636364, 2.16363636,\n",
       "        2.09090909, 1.69090909, 1.8       , 1.72727273, 2.25454546,\n",
       "        2.63636364, 1.94545455, 1.49090909, 1.52727273, 1.69090909,\n",
       "        3.72727273, 3.56363636, 3.43636364],\n",
       "       [3.50909091, 5.25454545, 6.        , 1.36363636, 1.50909091,\n",
       "        1.70909091, 1.83636364, 1.4       , 1.76363636, 2.18181818,\n",
       "        2.10909091, 2.03636364, 1.58181818, 1.2       , 1.36363636,\n",
       "        3.03636364, 3.65454546, 3.72727273],\n",
       "       [1.01818182, 1.83636364, 1.36363636, 6.        , 4.94545454,\n",
       "        4.30909091, 2.41818182, 2.30909091, 2.14545455, 2.69090909,\n",
       "        2.47272727, 2.14545455, 2.30909091, 2.16363636, 2.16363636,\n",
       "        1.52727273, 1.89090909, 1.47272727],\n",
       "       [1.32727273, 2.16363636, 1.50909091, 4.94545454, 6.        ,\n",
       "        4.87272727, 2.21818182, 2.30909091, 2.05454545, 2.65454546,\n",
       "        2.67272727, 2.4       , 2.2       , 2.05454545, 2.05454545,\n",
       "        1.81818182, 2.03636364, 1.69090909],\n",
       "       [2.36363636, 2.09090909, 1.70909091, 4.30909091, 4.87272727,\n",
       "        6.        , 1.54545454, 1.65454546, 2.27272727, 2.34545454,\n",
       "        2.74545454, 2.54545455, 1.78181818, 2.03636364, 1.96363636,\n",
       "        2.25454546, 1.83636364, 1.63636364],\n",
       "       [1.36363636, 1.69090909, 1.83636364, 2.41818182, 2.21818182,\n",
       "        1.54545454, 6.        , 4.50909091, 4.45454545, 2.27272727,\n",
       "        2.03636364, 1.52727273, 2.94545455, 2.70909091, 2.69090909,\n",
       "        1.92727273, 2.41818182, 2.05454545],\n",
       "       [1.10909091, 1.8       , 1.4       , 2.30909091, 2.30909091,\n",
       "        1.65454546, 4.50909091, 6.        , 4.01818182, 2.09090909,\n",
       "        2.23636364, 1.96363636, 2.69090909, 2.74545454, 3.03636364,\n",
       "        2.01818182, 1.98181818, 1.72727273],\n",
       "       [1.92727273, 1.72727273, 1.76363636, 2.14545455, 2.05454545,\n",
       "        2.27272727, 4.45454545, 4.01818182, 6.        , 1.61818182,\n",
       "        1.96363636, 2.03636364, 2.65454546, 3.14545455, 2.81818182,\n",
       "        2.18181818, 1.70909091, 1.41818182],\n",
       "       [1.49090909, 2.25454546, 2.18181818, 2.69090909, 2.65454546,\n",
       "        2.34545454, 2.27272727, 2.09090909, 1.61818182, 6.        ,\n",
       "        4.70909091, 4.38181818, 2.41818182, 2.        , 2.23636364,\n",
       "        1.98181818, 2.47272727, 2.10909091],\n",
       "       [1.47272727, 2.63636364, 2.10909091, 2.47272727, 2.67272727,\n",
       "        2.74545454, 2.03636364, 2.23636364, 1.96363636, 4.70909091,\n",
       "        6.        , 4.23636364, 2.16363636, 2.09090909, 2.32727273,\n",
       "        1.85454546, 1.94545455, 1.65454546],\n",
       "       [1.41818182, 1.94545455, 2.03636364, 2.14545455, 2.4       ,\n",
       "        2.54545455, 1.52727273, 1.96363636, 2.03636364, 4.38181818,\n",
       "        4.23636364, 6.        , 1.56363636, 1.92727273, 1.70909091,\n",
       "        2.27272727, 2.        , 1.72727273],\n",
       "       [1.74545455, 1.49090909, 1.58181818, 2.30909091, 2.2       ,\n",
       "        1.78181818, 2.94545455, 2.69090909, 2.65454546, 2.41818182,\n",
       "        2.16363636, 1.56363636, 6.        , 4.83636364, 4.32727273,\n",
       "        1.54545454, 1.83636364, 1.74545455],\n",
       "       [1.58181818, 1.52727273, 1.2       , 2.16363636, 2.05454545,\n",
       "        2.03636364, 2.70909091, 2.74545454, 3.14545455, 2.        ,\n",
       "        2.09090909, 1.92727273, 4.83636364, 6.        , 4.18181818,\n",
       "        1.98181818, 1.52727273, 1.07272727],\n",
       "       [1.56363636, 1.69090909, 1.36363636, 2.16363636, 2.05454545,\n",
       "        1.96363636, 2.69090909, 3.03636364, 2.81818182, 2.23636364,\n",
       "        2.32727273, 1.70909091, 4.32727273, 4.18181818, 6.        ,\n",
       "        1.58181818, 1.67272727, 1.50909091],\n",
       "       [3.96363636, 3.72727273, 3.03636364, 1.52727273, 1.81818182,\n",
       "        2.25454546, 1.92727273, 2.01818182, 2.18181818, 1.98181818,\n",
       "        1.85454546, 2.27272727, 1.54545454, 1.98181818, 1.58181818,\n",
       "        6.        , 4.12727273, 3.94545455],\n",
       "       [3.83636364, 3.56363636, 3.65454546, 1.89090909, 2.03636364,\n",
       "        1.83636364, 2.41818182, 1.98181818, 1.70909091, 2.47272727,\n",
       "        1.94545455, 2.        , 1.83636364, 1.52727273, 1.67272727,\n",
       "        4.12727273, 6.        , 4.29090909],\n",
       "       [3.89090909, 3.43636364, 3.72727273, 1.47272727, 1.69090909,\n",
       "        1.63636364, 2.05454545, 1.72727273, 1.41818182, 2.10909091,\n",
       "        1.65454546, 1.72727273, 1.74545455, 1.07272727, 1.50909091,\n",
       "        3.94545455, 4.29090909, 6.        ]])"
      ]
     },
     "execution_count": 246,
     "metadata": {},
     "output_type": "execute_result"
    }
   ],
   "source": [
    "hum_sim_mat"
   ]
  },
  {
   "cell_type": "code",
   "execution_count": 275,
   "metadata": {},
   "outputs": [],
   "source": [
    "F =np.genfromtxt('sim.csv',delimiter=',')"
   ]
  },
  {
   "cell_type": "code",
   "execution_count": 278,
   "metadata": {},
   "outputs": [
    {
     "data": {
      "text/plain": [
       "array([[0.        , 0.        , 0.        , ..., 0.        , 0.        ,\n",
       "        0.        ],\n",
       "       [0.        , 0.        , 0.        , ..., 2.01353979, 0.        ,\n",
       "        0.        ],\n",
       "       [0.        , 0.        , 0.        , ..., 0.        , 0.        ,\n",
       "        2.17586756],\n",
       "       ...,\n",
       "       [0.        , 0.        , 0.        , ..., 0.64869165, 0.        ,\n",
       "        0.        ],\n",
       "       [0.        , 0.        , 0.        , ..., 1.46846509, 0.        ,\n",
       "        0.        ],\n",
       "       [0.        , 0.        , 0.86696553, ..., 0.        , 0.        ,\n",
       "        0.        ]])"
      ]
     },
     "execution_count": 278,
     "metadata": {},
     "output_type": "execute_result"
    }
   ],
   "source": [
    "F"
   ]
  },
  {
   "cell_type": "code",
   "execution_count": 279,
   "metadata": {},
   "outputs": [
    {
     "data": {
      "text/plain": [
       "array([[0.        , 0.        , 0.        , ..., 0.        , 0.        ,\n",
       "        0.        ],\n",
       "       [0.        , 0.        , 0.        , ..., 2.01353979, 0.        ,\n",
       "        0.        ],\n",
       "       [0.        , 0.        , 0.        , ..., 0.        , 0.        ,\n",
       "        2.17586756],\n",
       "       ...,\n",
       "       [0.        , 0.        , 0.        , ..., 0.64869165, 0.        ,\n",
       "        0.        ],\n",
       "       [0.        , 0.        , 0.        , ..., 1.46846509, 0.        ,\n",
       "        0.        ],\n",
       "       [0.        , 0.        , 0.86696553, ..., 0.        , 0.        ,\n",
       "        0.        ]])"
      ]
     },
     "execution_count": 279,
     "metadata": {},
     "output_type": "execute_result"
    }
   ],
   "source": [
    "F"
   ]
  },
  {
   "cell_type": "code",
   "execution_count": 249,
   "metadata": {},
   "outputs": [
    {
     "data": {
      "text/plain": [
       "(18, 4096)"
      ]
     },
     "execution_count": 249,
     "metadata": {},
     "output_type": "execute_result"
    }
   ],
   "source": [
    "F.shape"
   ]
  },
  {
   "cell_type": "code",
   "execution_count": 250,
   "metadata": {},
   "outputs": [],
   "source": [
    "model_sim = np.dot(F,np.transpose(F))"
   ]
  },
  {
   "cell_type": "code",
   "execution_count": 251,
   "metadata": {},
   "outputs": [
    {
     "data": {
      "text/plain": [
       "(18, 18)"
      ]
     },
     "execution_count": 251,
     "metadata": {},
     "output_type": "execute_result"
    }
   ],
   "source": [
    "model_sim.shape"
   ]
  },
  {
   "cell_type": "code",
   "execution_count": 252,
   "metadata": {},
   "outputs": [],
   "source": [
    "model_sim_corr =  np.reshape(model_sim, (18*18))"
   ]
  },
  {
   "cell_type": "code",
   "execution_count": 280,
   "metadata": {},
   "outputs": [
    {
     "data": {
      "text/plain": [
       "0.5917747354309193"
      ]
     },
     "execution_count": 280,
     "metadata": {},
     "output_type": "execute_result"
    }
   ],
   "source": [
    "np.corrcoef(np.reshape(hum_sim_mat,(18*18)),model_sim_corr)[0,1]"
   ]
  },
  {
   "cell_type": "code",
   "execution_count": 209,
   "metadata": {},
   "outputs": [
    {
     "data": {
      "text/plain": [
       "(array([1.        , 3.70909091, 3.50909091, 1.01818182, 1.32727273,\n",
       "        2.36363636, 1.36363636, 1.10909091, 1.92727273, 1.49090909,\n",
       "        1.47272727, 1.41818182, 1.74545455, 1.58181818, 1.56363636,\n",
       "        3.96363636, 3.83636364, 3.89090909]),\n",
       " array([4861.96976424, 2944.52645212, 1410.49741066,  986.82615998,\n",
       "        2385.0829761 , 2969.58399204, 1660.4621978 , 1630.35141612,\n",
       "        2177.37614855, 1653.26587861, 1616.75044288, 1946.36854518,\n",
       "        1692.15009491, 2336.00164855, 1375.7684425 , 2790.87569361,\n",
       "        2529.63488607, 2550.26047111]))"
      ]
     },
     "execution_count": 209,
     "metadata": {},
     "output_type": "execute_result"
    }
   ],
   "source": [
    "hum_sim_mat[0], model_sim[0]"
   ]
  },
  {
   "cell_type": "code",
   "execution_count": 122,
   "metadata": {},
   "outputs": [],
   "source": [
    "humMat = humMat[0:18,0:18]"
   ]
  },
  {
   "cell_type": "code",
   "execution_count": 266,
   "metadata": {},
   "outputs": [],
   "source": [
    "hum_sim_i_j = []\n",
    "for i in range(hum_sim_mat.shape[0]):\n",
    "    for j in range(i,hum_sim_mat.shape[1]):\n",
    "        hum_sim_i_j.append(hum_sim_mat[i,j])"
   ]
  },
  {
   "cell_type": "code",
   "execution_count": 255,
   "metadata": {},
   "outputs": [],
   "source": [
    "model_F= []\n",
    "for i in range(F.shape[0]):\n",
    "    for j in range(i,F.shape[0]):\n",
    "        model_F.append(F[i] * F[j])"
   ]
  },
  {
   "cell_type": "code",
   "execution_count": 256,
   "metadata": {},
   "outputs": [],
   "source": [
    "model_F_cv= []\n",
    "for i in range(F.shape[0]):\n",
    "    for j in range(F.shape[0]):\n",
    "        model_F_cv.append(F[i] * F[j])"
   ]
  },
  {
   "cell_type": "code",
   "execution_count": 257,
   "metadata": {},
   "outputs": [
    {
     "data": {
      "text/plain": [
       "(171,)"
      ]
     },
     "execution_count": 257,
     "metadata": {},
     "output_type": "execute_result"
    }
   ],
   "source": [
    "np.array(hum_sim_i_j).shape"
   ]
  },
  {
   "cell_type": "code",
   "execution_count": 267,
   "metadata": {},
   "outputs": [],
   "source": [
    "from sklearn.model_selection import GridSearchCV\n",
    "from sklearn.linear_model import Ridge"
   ]
  },
  {
   "cell_type": "code",
   "execution_count": 268,
   "metadata": {},
   "outputs": [
    {
     "data": {
      "text/plain": [
       "GridSearchCV(cv=6, estimator=Ridge(fit_intercept=False, solver='sag'),\n",
       "             param_grid={'alpha': [10, 100, 1000, 10000.0, 50000, 100000.0,\n",
       "                                   1000000.0]},\n",
       "             scoring='neg_mean_squared_error')"
      ]
     },
     "execution_count": 268,
     "metadata": {},
     "output_type": "execute_result"
    }
   ],
   "source": [
    "reg = Ridge(solver='sag', fit_intercept=False)\n",
    "parameters = {'alpha': [10,100,1000,1e4, 50000, 1e5,1e6]}\n",
    "search = GridSearchCV(reg, parameters, scoring='neg_mean_squared_error', cv=6)\n",
    "search.fit(model_F, hum_sim_i_j)"
   ]
  },
  {
   "cell_type": "code",
   "execution_count": 269,
   "metadata": {},
   "outputs": [
    {
     "name": "stdout",
     "output_type": "stream",
     "text": [
      "Ridge(alpha=10000.0, fit_intercept=False, solver='sag')\n"
     ]
    }
   ],
   "source": [
    "best_reg = search.best_estimator_\n",
    "print(best_reg)"
   ]
  },
  {
   "cell_type": "code",
   "execution_count": 272,
   "metadata": {},
   "outputs": [],
   "source": [
    "from sklearn.model_selection import cross_validate\n",
    "a=cross_validate(best_reg,model_F_cv,np.reshape(hum_sim_mat,(18*18)),scoring=\"r2\",cv=6)"
   ]
  },
  {
   "cell_type": "code",
   "execution_count": 262,
   "metadata": {},
   "outputs": [
    {
     "data": {
      "text/plain": [
       "(18, 18)"
      ]
     },
     "execution_count": 262,
     "metadata": {},
     "output_type": "execute_result"
    }
   ],
   "source": [
    "hum_sim_mat.shape"
   ]
  },
  {
   "cell_type": "code",
   "execution_count": 273,
   "metadata": {},
   "outputs": [
    {
     "data": {
      "text/plain": [
       "0.28031946635964305"
      ]
     },
     "execution_count": 273,
     "metadata": {},
     "output_type": "execute_result"
    }
   ],
   "source": [
    "a['test_score'].mean()"
   ]
  },
  {
   "cell_type": "code",
   "execution_count": 274,
   "metadata": {},
   "outputs": [
    {
     "name": "stdout",
     "output_type": "stream",
     "text": [
      "0.6995293021075115\n"
     ]
    }
   ],
   "source": [
    "PredSimMat = best_reg.predict(model_F_cv)\n",
    "\n",
    "cor_mat = np.corrcoef(PredSimMat, hum_sim_mat.reshape(18*18))\n",
    "r = cor_mat[0,1]\n",
    "\n",
    "r2 = r**2\n",
    "print(r2)"
   ]
  },
  {
   "cell_type": "code",
   "execution_count": 281,
   "metadata": {},
   "outputs": [
    {
     "data": {
      "text/plain": [
       "0.8363786834368219"
      ]
     },
     "execution_count": 281,
     "metadata": {},
     "output_type": "execute_result"
    }
   ],
   "source": [
    "np.sqrt(r2)"
   ]
  },
  {
   "cell_type": "code",
   "execution_count": 226,
   "metadata": {},
   "outputs": [
    {
     "data": {
      "text/plain": [
       "array([4861.96976424, 2944.52645212, 1410.49741066,  986.82615998,\n",
       "       2385.0829761 , 2969.58399204, 1660.4621978 , 1630.35141612,\n",
       "       2177.37614855, 1653.26587861, 1616.75044288, 1946.36854518,\n",
       "       1692.15009491, 2336.00164855, 1375.7684425 , 2790.87569361,\n",
       "       2529.63488607, 2550.26047111, 2944.52645212, 5046.35785885,\n",
       "       1790.63746236,  858.64918005, 2533.52148831, 3042.37445792,\n",
       "       1831.88455005, 1848.39825324, 1738.85302397, 1709.96963258,\n",
       "       1680.81101689, 1971.15604931, 1677.05382059, 1975.85338471,\n",
       "       1254.84554608, 2593.85560528, 2476.49066969, 2807.91929512,\n",
       "       1410.49741066, 1790.63746236, 4176.72055058, 1302.18349091,\n",
       "       1923.7579437 , 1501.18289729, 2168.54025268, 1311.8822066 ,\n",
       "       1365.07336001, 1827.36943734, 1057.85085983, 1426.98100345,\n",
       "       1553.08634192, 1132.87587488,  636.47101642, 1259.26322294,\n",
       "       2119.50411983, 1626.95259428,  986.82615998,  858.64918005,\n",
       "       1302.18349091, 3025.95628498, 1849.87362859, 1236.95976881,\n",
       "       2013.61045705, 1305.65236808, 1406.11937075, 1646.58274772,\n",
       "       1366.4615758 , 1376.64091075, 1036.25822697, 1358.52031264,\n",
       "        993.21380992, 1007.32982114, 1442.83030351, 1556.97040967,\n",
       "       2385.0829761 , 2533.52148831, 1923.7579437 , 1849.87362859,\n",
       "       6100.87160697, 3891.48718832, 2535.90223767, 2559.71852003,\n",
       "       2408.59335555, 2318.08383677, 2384.54505679, 2168.7753767 ,\n",
       "       1910.87923099, 2310.96711131, 1683.64472258, 2847.29762479,\n",
       "       3000.54060546, 2932.69924801, 2969.58399204, 3042.37445792,\n",
       "       1501.18289729, 1236.95976881, 3891.48718832, 5475.35910141,\n",
       "       1784.4952878 , 2034.63006405, 2280.77430942, 1932.07002967,\n",
       "       2284.12972818, 1921.00428893, 1780.46766205, 2134.35315608,\n",
       "       1465.6323596 , 2579.66767195, 2913.43413576, 2921.47914549,\n",
       "       1660.4621978 , 1831.88455005, 2168.54025268, 2013.61045705,\n",
       "       2535.90223767, 1784.4952878 , 3989.77949928, 1942.90814951,\n",
       "       1838.56055901, 2637.83081598, 1705.93323214, 1786.17322038,\n",
       "       2099.3794853 , 2235.27468259, 1082.95512183, 1786.30500081,\n",
       "       2649.00167286, 2299.8622596 , 1630.35141612, 1848.39825324,\n",
       "       1311.8822066 , 1305.65236808, 2559.71852003, 2034.63006405,\n",
       "       1942.90814951, 5098.26925058, 2320.77301917, 1607.04069492,\n",
       "       2585.34257544, 2239.88609941, 1568.5438873 , 2191.74626103,\n",
       "       1726.91986083, 2007.5461201 , 1968.78313489, 1806.12886515,\n",
       "       2177.37614855, 1738.85302397, 1365.07336001, 1406.11937075,\n",
       "       2408.59335555, 2280.77430942, 1838.56055901, 2320.77301917,\n",
       "       4618.96519521, 1650.35508881, 2319.26318913, 1769.73205611,\n",
       "       1678.47105225, 2184.55926775, 2045.52871844, 2155.4061947 ,\n",
       "       2115.45603341, 1630.58466674, 1653.26587861, 1709.96963258,\n",
       "       1827.36943734, 1646.58274772, 2318.08383677, 1932.07002967,\n",
       "       2637.83081598, 1607.04069492, 1650.35508881, 3809.12992543,\n",
       "       1540.29319292, 1771.11446619, 1803.31222354, 2096.47909868,\n",
       "        942.39871304, 2044.64544485, 2498.78541326, 2374.93978857,\n",
       "       1616.75044288, 1680.81101689, 1057.85085983, 1366.4615758 ,\n",
       "       2384.54505679, 2284.12972818, 1705.93323214, 2585.34257544,\n",
       "       2319.26318913, 1540.29319292, 3386.21232641, 1799.55763862,\n",
       "       1393.42549314, 1899.03287416, 1653.97928323, 1790.0286542 ,\n",
       "       1695.03226394, 1809.27860574, 1946.36854518, 1971.15604931,\n",
       "       1426.98100345, 1376.64091075, 2168.7753767 , 1921.00428893,\n",
       "       1786.17322038, 2239.88609941, 1769.73205611, 1771.11446619,\n",
       "       1799.55763862, 3920.96710292, 1131.69527366, 2109.7880612 ,\n",
       "       1149.82359802, 2270.13600597, 1997.18933539, 2025.44311336,\n",
       "       1692.15009491, 1677.05382059, 1553.08634192, 1036.25822697,\n",
       "       1910.87923099, 1780.46766205, 2099.3794853 , 1568.5438873 ,\n",
       "       1678.47105225, 1803.31222354, 1393.42549314, 1131.69527366,\n",
       "       2779.08002643, 1561.80930361,  853.71471495, 1556.058019  ,\n",
       "       2286.83830444, 1864.82785374, 2336.00164855, 1975.85338471,\n",
       "       1132.87587488, 1358.52031264, 2310.96711131, 2134.35315608,\n",
       "       2235.27468259, 2191.74626103, 2184.55926775, 2096.47909868,\n",
       "       1899.03287416, 2109.7880612 , 1561.80930361, 4528.03449878,\n",
       "       2011.96144488, 2719.28202071, 2423.32303208, 2161.88155157,\n",
       "       1375.7684425 , 1254.84554608,  636.47101642,  993.21380992,\n",
       "       1683.64472258, 1465.6323596 , 1082.95512183, 1726.91986083,\n",
       "       2045.52871844,  942.39871304, 1653.97928323, 1149.82359802,\n",
       "        853.71471495, 2011.96144488, 4148.37680949, 1492.44333983,\n",
       "       1144.44138428, 1130.07017269, 2790.87569361, 2593.85560528,\n",
       "       1259.26322294, 1007.32982114, 2847.29762479, 2579.66767195,\n",
       "       1786.30500081, 2007.5461201 , 2155.4061947 , 2044.64544485,\n",
       "       1790.0286542 , 2270.13600597, 1556.058019  , 2719.28202071,\n",
       "       1492.44333983, 4609.39649392, 2642.18871384, 2566.16745855,\n",
       "       2529.63488607, 2476.49066969, 2119.50411983, 1442.83030351,\n",
       "       3000.54060546, 2913.43413576, 2649.00167286, 1968.78313489,\n",
       "       2115.45603341, 2498.78541326, 1695.03226394, 1997.18933539,\n",
       "       2286.83830444, 2423.32303208, 1144.44138428, 2642.18871384,\n",
       "       4824.91992109, 2732.79459131, 2550.26047111, 2807.91929512,\n",
       "       1626.95259428, 1556.97040967, 2932.69924801, 2921.47914549,\n",
       "       2299.8622596 , 1806.12886515, 1630.58466674, 2374.93978857,\n",
       "       1809.27860574, 2025.44311336, 1864.82785374, 2161.88155157,\n",
       "       1130.07017269, 2566.16745855, 2732.79459131, 4406.23770611])"
      ]
     },
     "execution_count": 226,
     "metadata": {},
     "output_type": "execute_result"
    }
   ],
   "source": [
    "model_sim_corr"
   ]
  },
  {
   "cell_type": "code",
   "execution_count": 283,
   "metadata": {},
   "outputs": [],
   "source": [
    "extract_from_layer = ['fc6','fc7','fc8']"
   ]
  },
  {
   "cell_type": "code",
   "execution_count": 287,
   "metadata": {},
   "outputs": [],
   "source": [
    "from model_hum_corr import *\n"
   ]
  },
  {
   "cell_type": "code",
   "execution_count": 292,
   "metadata": {},
   "outputs": [],
   "source": [
    "corr_d = []\n",
    "corr_ad = []\n",
    "for layer in extract_from_layer:\n",
    "    d,ad = calc_corr(f'sim_{layer}.csv','avg_hum_ratings.csv')\n",
    "    corr_d.append(d)\n",
    "    corr_ad.append(ad)"
   ]
  },
  {
   "cell_type": "code",
   "execution_count": 293,
   "metadata": {},
   "outputs": [
    {
     "data": {
      "text/plain": [
       "<BarContainer object of 3 artists>"
      ]
     },
     "execution_count": 293,
     "metadata": {},
     "output_type": "execute_result"
    },
    {
     "data": {
      "image/png": "[encoded data removed]",
      "text/plain": [
       "<Figure size 432x288 with 1 Axes>"
      ]
     },
     "metadata": {
      "needs_background": "light"
     },
     "output_type": "display_data"
    }
   ],
   "source": [
    "import matplotlib.pyplot as plt\n",
    "plt.bar(extract_from_layer, corr_d)\n",
    "plt.bar(extract_from_layer, corr_ad)"
   ]
  },
  {
   "cell_type": "code",
   "execution_count": 294,
   "metadata": {},
   "outputs": [
    {
     "data": {
      "text/plain": [
       "<BarContainer object of 3 artists>"
      ]
     },
     "execution_count": 294,
     "metadata": {},
     "output_type": "execute_result"
    },
    {
     "data": {
      "image/png": "[encoded data removed]",
      "text/plain": [
       "<Figure size 432x288 with 1 Axes>"
      ]
     },
     "metadata": {
      "needs_background": "light"
     },
     "output_type": "display_data"
    }
   ],
   "source": [
    "plt.bar(extract_from_layer, corr_d)"
   ]
  },
  {
   "cell_type": "code",
   "execution_count": null,
   "metadata": {},
   "outputs": [],
   "source": []
  }
 ],
 "metadata": {
  "kernelspec": {
   "display_name": "Python 3",
   "language": "python",
   "name": "python3"
  },
  "language_info": {
   "codemirror_mode": {
    "name": "ipython",
    "version": 3
   },
   "file_extension": ".py",
   "mimetype": "text/x-python",
   "name": "python",
   "nbconvert_exporter": "python",
   "pygments_lexer": "ipython3",
   "version": "3.8.3"
  }
 },
 "nbformat": 4,
 "nbformat_minor": 4
}
