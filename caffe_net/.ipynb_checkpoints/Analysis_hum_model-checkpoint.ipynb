{
 "cells": [
  {
   "cell_type": "code",
   "execution_count": 2,
   "metadata": {},
   "outputs": [],
   "source": [
    "import pandas as pd\n",
    "import numpy as np\n",
    "from model_hum_corr import *"
   ]
  },
  {
   "cell_type": "code",
   "execution_count": 15,
   "metadata": {},
   "outputs": [],
   "source": [
    "hum_avg_ratings = np.genfromtxt('avg_hum_ratings.csv',delimiter=',')"
   ]
  },
  {
   "cell_type": "code",
   "execution_count": 16,
   "metadata": {},
   "outputs": [],
   "source": [
    "caffe = np.genfromtxt('sim.csv',delimiter=',')"
   ]
  },
  {
   "cell_type": "code",
   "execution_count": 18,
   "metadata": {},
   "outputs": [],
   "source": [
    "hum_sim_mat = np.zeros((18,18))\n",
    "ind = 0\n",
    "hum_sim_mat[:] = np.nan\n",
    "for i in range(18):\n",
    "    for j in range(i,18):\n",
    "        if i!=j:\n",
    "            hum_sim_mat[i,j] = hum_avg_ratings[ind]\n",
    "            hum_sim_mat[j,i] = hum_avg_ratings[ind]\n",
    "            ind+=1\n",
    "        else:\n",
    "            hum_sim_mat[i,j] = 6\n",
    "hum_sim_mat_corr = np.reshape(hum_sim_mat,(18*18))\n",
    "F =np.genfromtxt('sim.csv',delimiter=',')\n",
    "#F = np.reshape(F, (18,4096))\n",
    "\n",
    "model_sim = np.dot(F,np.transpose(F))\n",
    "model_sim_corr =  np.reshape(model_sim, (18*18))\n"
   ]
  },
  {
   "cell_type": "markdown",
   "metadata": {},
   "source": [
    "#### correlation of human and model, for 1st half vs last half of the survey"
   ]
  },
  {
   "cell_type": "code",
   "execution_count": 56,
   "metadata": {},
   "outputs": [
    {
     "data": {
      "text/plain": [
       "162.0"
      ]
     },
     "execution_count": 56,
     "metadata": {},
     "output_type": "execute_result"
    }
   ],
   "source": [
    "len(hum_sim_mat_corr)/2"
   ]
  },
  {
   "cell_type": "code",
   "execution_count": 57,
   "metadata": {},
   "outputs": [
    {
     "data": {
      "text/plain": [
       "0.38988672648606687"
      ]
     },
     "execution_count": 57,
     "metadata": {},
     "output_type": "execute_result"
    }
   ],
   "source": [
    "np.corrcoef(hum_sim_mat_corr[0:162],model_sim_corr[0:162])[0,1]**2"
   ]
  },
  {
   "cell_type": "code",
   "execution_count": 58,
   "metadata": {},
   "outputs": [
    {
     "data": {
      "text/plain": [
       "0.3111632157219837"
      ]
     },
     "execution_count": 58,
     "metadata": {},
     "output_type": "execute_result"
    }
   ],
   "source": [
    "np.corrcoef(hum_sim_mat_corr[162:],model_sim_corr[162:])[0,1]**2"
   ]
  },
  {
   "cell_type": "markdown",
   "metadata": {},
   "source": [
    "### Reading the survey results"
   ]
  },
  {
   "cell_type": "code",
   "execution_count": 178,
   "metadata": {},
   "outputs": [],
   "source": [
    "survey = pd.read_csv('../survey_results.csv')"
   ]
  },
  {
   "cell_type": "code",
   "execution_count": 179,
   "metadata": {},
   "outputs": [],
   "source": [
    "survey = survey.drop([2,3,4,5],axis=0)"
   ]
  },
  {
   "cell_type": "code",
   "execution_count": 180,
   "metadata": {},
   "outputs": [],
   "source": [
    "survey = survey.reset_index()"
   ]
  },
  {
   "cell_type": "code",
   "execution_count": 181,
   "metadata": {},
   "outputs": [],
   "source": [
    "survey_numbers = survey.loc[2:]"
   ]
  },
  {
   "cell_type": "code",
   "execution_count": 182,
   "metadata": {},
   "outputs": [],
   "source": [
    "survey_numbers = survey_numbers.reset_index()"
   ]
  },
  {
   "cell_type": "code",
   "execution_count": 183,
   "metadata": {},
   "outputs": [],
   "source": [
    "survey_numbers.iloc[:,28:-4] = survey_numbers.iloc[:,28:-4].astype('int') "
   ]
  },
  {
   "cell_type": "code",
   "execution_count": 184,
   "metadata": {},
   "outputs": [
    {
     "data": {
      "text/plain": [
       "Q4_1      3.709091\n",
       "Q4_2      3.509091\n",
       "Q4_3      1.018182\n",
       "Q4_4      1.327273\n",
       "Q4_5      2.363636\n",
       "            ...   \n",
       "Q22_9     1.672727\n",
       "Q22_10    1.509091\n",
       "Q22_11    4.127273\n",
       "Q22_12    3.945455\n",
       "Q22_13    4.290909\n",
       "Length: 153, dtype: float64"
      ]
     },
     "execution_count": 184,
     "metadata": {},
     "output_type": "execute_result"
    }
   ],
   "source": [
    "survey_numbers.iloc[:,28:-4].mean(axis=0)"
   ]
  },
  {
   "cell_type": "code",
   "execution_count": 155,
   "metadata": {},
   "outputs": [],
   "source": [
    "duration = survey_numbers['Duration (in seconds)'].astype('int')"
   ]
  },
  {
   "cell_type": "code",
   "execution_count": 185,
   "metadata": {},
   "outputs": [],
   "source": [
    "survey_numbers['Duration (in seconds)'] = survey_numbers['Duration (in seconds)'].astype('int')"
   ]
  },
  {
   "cell_type": "code",
   "execution_count": 186,
   "metadata": {},
   "outputs": [],
   "source": [
    "survey_by_duration = survey_numbers[survey_numbers['Duration (in seconds)']<1800]"
   ]
  },
  {
   "cell_type": "code",
   "execution_count": 109,
   "metadata": {},
   "outputs": [],
   "source": [
    "duration = [d for d in duration if d<1900]"
   ]
  },
  {
   "cell_type": "code",
   "execution_count": 110,
   "metadata": {},
   "outputs": [],
   "source": [
    "import matplotlib.pyplot as plt"
   ]
  },
  {
   "cell_type": "code",
   "execution_count": 111,
   "metadata": {},
   "outputs": [
    {
     "data": {
      "text/plain": [
       "{'whiskers': [<matplotlib.lines.Line2D at 0x7f40ae411670>,\n",
       "  <matplotlib.lines.Line2D at 0x7f40ae411ee0>],\n",
       " 'caps': [<matplotlib.lines.Line2D at 0x7f40ae3e8550>,\n",
       "  <matplotlib.lines.Line2D at 0x7f40ae3e8a60>],\n",
       " 'boxes': [<matplotlib.lines.Line2D at 0x7f40ae411850>],\n",
       " 'medians': [<matplotlib.lines.Line2D at 0x7f40ae3e85e0>],\n",
       " 'fliers': [<matplotlib.lines.Line2D at 0x7f40ae3e8970>],\n",
       " 'means': []}"
      ]
     },
     "execution_count": 111,
     "metadata": {},
     "output_type": "execute_result"
    },
    {
     "data": {
      "image/png": "[encoded data removed]",
      "text/plain": [
       "<Figure size 432x288 with 1 Axes>"
      ]
     },
     "metadata": {
      "needs_background": "light"
     },
     "output_type": "display_data"
    }
   ],
   "source": [
    "plt.boxplot(duration)"
   ]
  },
  {
   "cell_type": "code",
   "execution_count": 187,
   "metadata": {},
   "outputs": [],
   "source": [
    "mean_dur = np.mean(survey_by_duration['Duration (in seconds)'])"
   ]
  },
  {
   "cell_type": "code",
   "execution_count": 188,
   "metadata": {},
   "outputs": [
    {
     "data": {
      "text/plain": [
       "651.88"
      ]
     },
     "execution_count": 188,
     "metadata": {},
     "output_type": "execute_result"
    }
   ],
   "source": [
    "mean_dur"
   ]
  },
  {
   "cell_type": "code",
   "execution_count": 189,
   "metadata": {},
   "outputs": [],
   "source": [
    "survey_by_duration_short = survey_numbers[survey_numbers['Duration (in seconds)']<=mean_dur]"
   ]
  },
  {
   "cell_type": "code",
   "execution_count": 190,
   "metadata": {},
   "outputs": [],
   "source": [
    "survey_by_duration_long= survey_numbers[survey_numbers['Duration (in seconds)']>mean_dur]"
   ]
  },
  {
   "cell_type": "code",
   "execution_count": 191,
   "metadata": {},
   "outputs": [],
   "source": [
    "survey_by_duration_long_ratings = survey_by_duration_long.iloc[:,28:-4]"
   ]
  },
  {
   "cell_type": "code",
   "execution_count": 192,
   "metadata": {},
   "outputs": [],
   "source": [
    "survey_by_duration_short_ratings = survey_by_duration_short.iloc[:,28:-4]"
   ]
  },
  {
   "cell_type": "code",
   "execution_count": 193,
   "metadata": {},
   "outputs": [],
   "source": [
    "hum_rat_long_avg = survey_by_duration_long_ratings.mean(axis=0)"
   ]
  },
  {
   "cell_type": "code",
   "execution_count": 195,
   "metadata": {},
   "outputs": [
    {
     "data": {
      "text/plain": [
       "Q4_1      3.409091\n",
       "Q4_2      3.454545\n",
       "Q4_3      0.909091\n",
       "Q4_4      1.454545\n",
       "Q4_5      2.545455\n",
       "            ...   \n",
       "Q22_9     1.909091\n",
       "Q22_10    1.545455\n",
       "Q22_11    3.727273\n",
       "Q22_12    3.363636\n",
       "Q22_13    3.909091\n",
       "Length: 153, dtype: float64"
      ]
     },
     "execution_count": 195,
     "metadata": {},
     "output_type": "execute_result"
    }
   ],
   "source": [
    "hum_rat_long_avg"
   ]
  },
  {
   "cell_type": "code",
   "execution_count": 194,
   "metadata": {},
   "outputs": [
    {
     "data": {
      "text/plain": [
       "153"
      ]
     },
     "execution_count": 194,
     "metadata": {},
     "output_type": "execute_result"
    }
   ],
   "source": [
    "len(hum_rat_long_avg)"
   ]
  },
  {
   "cell_type": "code",
   "execution_count": 196,
   "metadata": {},
   "outputs": [],
   "source": [
    "hum_rat_short_avg = survey_by_duration_short_ratings.mean(axis=0)"
   ]
  },
  {
   "cell_type": "code",
   "execution_count": 198,
   "metadata": {},
   "outputs": [
    {
     "data": {
      "text/plain": [
       "Q4_1      3.909091\n",
       "Q4_2      3.545455\n",
       "Q4_3      1.090909\n",
       "Q4_4      1.242424\n",
       "Q4_5      2.242424\n",
       "            ...   \n",
       "Q22_9     1.515152\n",
       "Q22_10    1.484848\n",
       "Q22_11    4.393939\n",
       "Q22_12    4.333333\n",
       "Q22_13    4.545455\n",
       "Length: 153, dtype: float64"
      ]
     },
     "execution_count": 198,
     "metadata": {},
     "output_type": "execute_result"
    }
   ],
   "source": [
    "hum_rat_short_avg"
   ]
  },
  {
   "cell_type": "code",
   "execution_count": 199,
   "metadata": {},
   "outputs": [],
   "source": [
    "hum_sim_mat_long = np.zeros((18,18))\n",
    "hum_sim_mat_short = np.zeros((18,18))\n",
    "ind = 0\n",
    "hum_sim_mat[:] = np.nan\n",
    "for i in range(18):\n",
    "    for j in range(i,18):\n",
    "        if i!=j:\n",
    "            hum_sim_mat_short[i,j] = hum_rat_short_avg[ind]\n",
    "            hum_sim_mat_short[j,i] = hum_rat_short_avg[ind]\n",
    "            hum_sim_mat_long[i,j] = hum_rat_long_avg[ind]\n",
    "            hum_sim_mat_long[j,i] = hum_rat_long_avg[ind]\n",
    "            ind+=1\n",
    "        else:\n",
    "            hum_sim_mat_short[i,j] = 6\n",
    "            hum_sim_mat_long[i,j] = 6\n",
    "hum_sim_mat_corr_long = np.reshape(hum_sim_mat_long,(18*18))\n",
    "hum_sim_mat_corr_short = np.reshape(hum_sim_mat_short,(18*18))"
   ]
  },
  {
   "cell_type": "code",
   "execution_count": 200,
   "metadata": {},
   "outputs": [
    {
     "data": {
      "text/plain": [
       "0.3867751107873873"
      ]
     },
     "execution_count": 200,
     "metadata": {},
     "output_type": "execute_result"
    }
   ],
   "source": [
    "np.corrcoef(model_sim_corr,hum_sim_mat_corr_long)[0,1]**2"
   ]
  },
  {
   "cell_type": "code",
   "execution_count": 201,
   "metadata": {},
   "outputs": [
    {
     "data": {
      "text/plain": [
       "0.31757514772831175"
      ]
     },
     "execution_count": 201,
     "metadata": {},
     "output_type": "execute_result"
    }
   ],
   "source": [
    "np.corrcoef(model_sim_corr,hum_sim_mat_corr_short)[0,1]**2"
   ]
  },
  {
   "cell_type": "code",
   "execution_count": 202,
   "metadata": {},
   "outputs": [
    {
     "data": {
      "text/plain": [
       "0.9204892954436124"
      ]
     },
     "execution_count": 202,
     "metadata": {},
     "output_type": "execute_result"
    }
   ],
   "source": [
    "np.corrcoef(hum_sim_mat_corr_short,hum_sim_mat_corr_long)[0,1]**2"
   ]
  },
  {
   "cell_type": "code",
   "execution_count": null,
   "metadata": {},
   "outputs": [],
   "source": []
  }
 ],
 "metadata": {
  "kernelspec": {
   "display_name": "Python 3",
   "language": "python",
   "name": "python3"
  },
  "language_info": {
   "codemirror_mode": {
    "name": "ipython",
    "version": 3
   },
   "file_extension": ".py",
   "mimetype": "text/x-python",
   "name": "python",
   "nbconvert_exporter": "python",
   "pygments_lexer": "ipython3",
   "version": "3.8.3"
  }
 },
 "nbformat": 4,
 "nbformat_minor": 4
}
