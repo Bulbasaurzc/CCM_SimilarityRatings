{
 "cells": [
  {
   "cell_type": "code",
   "execution_count": 1,
   "metadata": {},
   "outputs": [],
   "source": [
    "%matplotlib inline\n",
    "import matplotlib.pyplot as plt\n",
    "import matplotlib.image as mpimg\n",
    "from matplotlib import rcParams\n",
    "from itertools import combinations \n",
    "import csv"
   ]
  },
  {
   "cell_type": "code",
   "execution_count": 11,
   "metadata": {},
   "outputs": [],
   "source": [
    "# load in 15 images\n",
    "# abbreviationsof: bobolark, hooded warbler, indigo bunting, marsh wren, painted bunting, shiny cowbird\n",
    "images = [\"bl1\", \"bl2\", \"bl3\",\"hw1\",\"hw2\", \"hw3\", \"ib1\",\"ib2\", \"ib3\",\"mw1\", \"mw2\", \"mw3\", \"pb1\", \"pb2\", \"pb3\", \"sc1\", \"sc2\", \"sc3\"]\n",
    "\n",
    "# figure size in inches optional\n",
    "rcParams['figure.figsize'] = 11 ,8\n",
    "    \n",
    "# read images\n",
    "combos = list(combinations(images, 2)) #all the combinations, n choose 2\n",
    "\n",
    "\n",
    "# Prints list of animals in correct order in a CSV file titled \"file\"\n",
    "import pandas\n",
    "df = pandas.DataFrame(data={\"col1\": combos})\n",
    "df.to_csv(\"./file.csv\", sep=',',index=False)\n"
   ]
  },
  {
   "cell_type": "code",
   "execution_count": null,
   "metadata": {
    "collapsed": true
   },
   "outputs": [],
   "source": [
    "# Plots the images in pairs and saves them in a folder.\n",
    "\"\"\"\n",
    "def plot_images(img_a, img_b):\n",
    "# displays images a and b\n",
    "    fig, ax = plt.subplots(1,2)\n",
    "    ax[0].imshow(img_a);\n",
    "    ax[0].axis('off')\n",
    "    ax[1].imshow(img_b);\n",
    "    ax[1].axis('off')\n",
    "    return\n",
    "\n",
    "for i in range(0,len(combos)):\n",
    "    img_a = mpimg.imread(combos[i][0]+\".jpg\")\n",
    "    img_b = mpimg.imread(combos[i][1]+\".jpg\")\n",
    "    plot_images(img_a, img_b)\n",
    "    plt.savefig(\"ImagePairs/\" + combos[i][0] + \"_\" + combos[i][1] + \".jpg\", bbox_inches='tight')\n"
   ]
  },
  {
   "cell_type": "code",
   "execution_count": null,
   "metadata": {},
   "outputs": [],
   "source": [
    "# This calculates Cosine Similarity\n"
   ]
  }
 ],
 "metadata": {
  "@webio": {
   "lastCommId": null,
   "lastKernelId": null
  },
  "kernelspec": {
   "display_name": "Python 3",
   "language": "python",
   "name": "python3"
  },
  "language_info": {
   "codemirror_mode": {
    "name": "ipython",
    "version": 3
   },
   "file_extension": ".py",
   "mimetype": "text/x-python",
   "name": "python",
   "nbconvert_exporter": "python",
   "pygments_lexer": "ipython3",
   "version": "3.8.3"
  }
 },
 "nbformat": 4,
 "nbformat_minor": 4
}
