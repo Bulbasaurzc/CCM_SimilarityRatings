{
 "cells": [
  {
   "cell_type": "code",
   "execution_count": 1,
   "metadata": {
    "collapsed": true
   },
   "outputs": [],
   "source": [
    "%matplotlib inline\n",
    "import matplotlib.pyplot as plt\n",
    "import matplotlib.image as mpimg\n",
    "from matplotlib import rcParams\n",
    "from itertools import combinations "
   ]
  },
  {
   "cell_type": "code",
<<<<<<< HEAD
   "execution_count": 3,
   "metadata": {},
=======
   "execution_count": 4,
   "metadata": {
    "collapsed": false
   },
>>>>>>> e926d6bd6dc28ecf15cacdaf8841b92362d1afbd
   "outputs": [
    {
     "data": {
      "text/plain": [
       "153"
      ]
     },
     "execution_count": 3,
     "metadata": {},
     "output_type": "execute_result"
    }
   ],
   "source": [
    "# load in 15 images\n",
    "# abbreviationsof: bobolark, hooded warbler, indigo bunting, marsh wren, painted bunting, shiny cowbird\n",
    "images = [\"bl1\", \"bl2\", \"bl3\",\"hw1\",\"hw2\", \"hw3\", \"ib1\",\"ib2\", \"ib3\",\"mw1\", \"mw2\", \"mw3\", \"pb1\", \"pb2\", \"pb3\", \"sc1\", \"sc2\", \"sc3\"]\n",
    "\n",
    "# figure size in inches optional\n",
    "rcParams['figure.figsize'] = 11 ,8\n",
    "    \n",
    "# read images\n",
    "combos = list(combinations(images, 2)) #all the combinations, n choose 2\n",
    "len(combos)\n",
    "\n",
    "# def plot_images(img_a, img_b):\n",
    "# # displays images a and b\n",
    "#     fig, ax = plt.subplots(1,2)\n",
    "#     ax[0].imshow(img_a);\n",
    "#     ax[0].axis('off')\n",
    "#     ax[1].imshow(img_b);\n",
    "#     ax[1].axis('off')\n",
    "#     return\n",
    "\n",
    "# for i in range(0,len(combos)):\n",
    "#     img_a = mpimg.imread(combos[i][0]+\".jpg\")\n",
    "#     img_b = mpimg.imread(combos[i][1]+\".jpg\")\n",
    "#     plot_images(img_a, img_b)\n",
    "#     plt.savefig(\"ImagePairs/\" + combos[i][0] + \"_\" + combos[i][1] + \".jpg\", bbox_inches='tight')\n"
   ]
  },
  {
   "cell_type": "code",
   "execution_count": null,
   "metadata": {
    "collapsed": true
   },
   "outputs": [],
   "source": []
  }
 ],
 "metadata": {
  "@webio": {
   "lastCommId": null,
   "lastKernelId": null
  },
  "kernelspec": {
   "display_name": "Python 3",
   "language": "python",
   "name": "python3"
  },
  "language_info": {
   "codemirror_mode": {
    "name": "ipython",
    "version": 3
   },
   "file_extension": ".py",
   "mimetype": "text/x-python",
   "name": "python",
   "nbconvert_exporter": "python",
   "pygments_lexer": "ipython3",
   "version": "3.8.3"
  }
 },
 "nbformat": 4,
 "nbformat_minor": 4
}
